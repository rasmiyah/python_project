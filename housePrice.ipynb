{
 "cells": [
  {
   "cell_type": "code",
   "execution_count": 2,
   "id": "753ba552",
   "metadata": {},
   "outputs": [],
   "source": [
    "import numpy as np\n",
    "import pandas as pd\n",
    "import seaborn as sns\n",
    "import matplotlib.pyplot as plt\n",
    "\n",
    "from sklearn.model_selection import train_test_split\n",
    "from sklearn.preprocessing import LabelEncoder,StandardScaler\n",
    "\n",
    "from sklearn.metrics import r2_score\n",
    "\n",
    "from sklearn.linear_model import LinearRegression\n",
    "from sklearn.tree import DecisionTreeRegressor\n",
    "from sklearn.ensemble import RandomForestRegressor\n",
    "\n",
    "import keras\n",
    "from keras.layers import Dense, Activation\n",
    "from keras.models import Sequential"
   ]
  },
  {
   "cell_type": "code",
   "execution_count": 3,
   "id": "2821523e",
   "metadata": {},
   "outputs": [],
   "source": [
    "df=pd.read_csv(\"house_price.csv\")"
   ]
  },
  {
   "cell_type": "code",
   "execution_count": 4,
   "id": "ec54c0ec",
   "metadata": {},
   "outputs": [
    {
     "data": {
      "text/html": [
       "<div>\n",
       "<style scoped>\n",
       "    .dataframe tbody tr th:only-of-type {\n",
       "        vertical-align: middle;\n",
       "    }\n",
       "\n",
       "    .dataframe tbody tr th {\n",
       "        vertical-align: top;\n",
       "    }\n",
       "\n",
       "    .dataframe thead th {\n",
       "        text-align: right;\n",
       "    }\n",
       "</style>\n",
       "<table border=\"1\" class=\"dataframe\">\n",
       "  <thead>\n",
       "    <tr style=\"text-align: right;\">\n",
       "      <th></th>\n",
       "      <th>Location</th>\n",
       "      <th>BHK</th>\n",
       "      <th>Furnishing</th>\n",
       "      <th>Sq.ft</th>\n",
       "      <th>Old(years)</th>\n",
       "      <th>Floor</th>\n",
       "      <th>Price</th>\n",
       "    </tr>\n",
       "  </thead>\n",
       "  <tbody>\n",
       "    <tr>\n",
       "      <th>0</th>\n",
       "      <td>Bommanahalli</td>\n",
       "      <td>3</td>\n",
       "      <td>1</td>\n",
       "      <td>3000</td>\n",
       "      <td>1</td>\n",
       "      <td>3</td>\n",
       "      <td>28000</td>\n",
       "    </tr>\n",
       "    <tr>\n",
       "      <th>1</th>\n",
       "      <td>Bommanahalli</td>\n",
       "      <td>3</td>\n",
       "      <td>1</td>\n",
       "      <td>1650</td>\n",
       "      <td>10</td>\n",
       "      <td>0</td>\n",
       "      <td>18000</td>\n",
       "    </tr>\n",
       "    <tr>\n",
       "      <th>2</th>\n",
       "      <td>Whitefield</td>\n",
       "      <td>2</td>\n",
       "      <td>0</td>\n",
       "      <td>1000</td>\n",
       "      <td>5</td>\n",
       "      <td>3</td>\n",
       "      <td>16400</td>\n",
       "    </tr>\n",
       "    <tr>\n",
       "      <th>3</th>\n",
       "      <td>Whitefield</td>\n",
       "      <td>3</td>\n",
       "      <td>0</td>\n",
       "      <td>1600</td>\n",
       "      <td>1</td>\n",
       "      <td>9</td>\n",
       "      <td>27000</td>\n",
       "    </tr>\n",
       "    <tr>\n",
       "      <th>4</th>\n",
       "      <td>Whitefield</td>\n",
       "      <td>2</td>\n",
       "      <td>1</td>\n",
       "      <td>1200</td>\n",
       "      <td>5</td>\n",
       "      <td>1</td>\n",
       "      <td>20000</td>\n",
       "    </tr>\n",
       "    <tr>\n",
       "      <th>5</th>\n",
       "      <td>Whitefield</td>\n",
       "      <td>3</td>\n",
       "      <td>1</td>\n",
       "      <td>1760</td>\n",
       "      <td>5</td>\n",
       "      <td>8</td>\n",
       "      <td>39500</td>\n",
       "    </tr>\n",
       "    <tr>\n",
       "      <th>6</th>\n",
       "      <td>Whitefield</td>\n",
       "      <td>3</td>\n",
       "      <td>1</td>\n",
       "      <td>1870</td>\n",
       "      <td>10</td>\n",
       "      <td>3</td>\n",
       "      <td>35000</td>\n",
       "    </tr>\n",
       "    <tr>\n",
       "      <th>7</th>\n",
       "      <td>Whitefield</td>\n",
       "      <td>3</td>\n",
       "      <td>0</td>\n",
       "      <td>2200</td>\n",
       "      <td>1</td>\n",
       "      <td>10</td>\n",
       "      <td>42000</td>\n",
       "    </tr>\n",
       "  </tbody>\n",
       "</table>\n",
       "</div>"
      ],
      "text/plain": [
       "       Location  BHK  Furnishing  Sq.ft  Old(years)  Floor  Price\n",
       "0  Bommanahalli    3           1   3000           1      3  28000\n",
       "1  Bommanahalli    3           1   1650          10      0  18000\n",
       "2    Whitefield    2           0   1000           5      3  16400\n",
       "3    Whitefield    3           0   1600           1      9  27000\n",
       "4    Whitefield    2           1   1200           5      1  20000\n",
       "5    Whitefield    3           1   1760           5      8  39500\n",
       "6    Whitefield    3           1   1870          10      3  35000\n",
       "7    Whitefield    3           0   2200           1     10  42000"
      ]
     },
     "execution_count": 4,
     "metadata": {},
     "output_type": "execute_result"
    }
   ],
   "source": [
    "df.head(8)"
   ]
  },
  {
   "cell_type": "code",
   "execution_count": 5,
   "id": "81ddc37b",
   "metadata": {},
   "outputs": [
    {
     "data": {
      "text/plain": [
       "<bound method DataFrame.info of          Location  BHK  Furnishing  Sq.ft  Old(years)  Floor  Price\n",
       "0    Bommanahalli    3           1   3000           1      3  28000\n",
       "1    Bommanahalli    3           1   1650          10      0  18000\n",
       "2      Whitefield    2           0   1000           5      3  16400\n",
       "3      Whitefield    3           0   1600           1      9  27000\n",
       "4      Whitefield    2           1   1200           5      1  20000\n",
       "..            ...  ...         ...    ...         ...    ...    ...\n",
       "995  Bommanahalli    3           1   1460           1      2  25000\n",
       "996    Whitefield    3           0   2100           1      7  28000\n",
       "997  Bommanahalli    2           0   1033           5      0  16500\n",
       "998  Bommanahalli    3           0   1500          10      1  22000\n",
       "999    Whitefield    3           1   1768           5     11  30000\n",
       "\n",
       "[1000 rows x 7 columns]>"
      ]
     },
     "execution_count": 5,
     "metadata": {},
     "output_type": "execute_result"
    }
   ],
   "source": [
    "df.info"
   ]
  },
  {
   "cell_type": "code",
   "execution_count": 6,
   "id": "60e1ed9d",
   "metadata": {},
   "outputs": [
    {
     "data": {
      "text/html": [
       "<div>\n",
       "<style scoped>\n",
       "    .dataframe tbody tr th:only-of-type {\n",
       "        vertical-align: middle;\n",
       "    }\n",
       "\n",
       "    .dataframe tbody tr th {\n",
       "        vertical-align: top;\n",
       "    }\n",
       "\n",
       "    .dataframe thead th {\n",
       "        text-align: right;\n",
       "    }\n",
       "</style>\n",
       "<table border=\"1\" class=\"dataframe\">\n",
       "  <thead>\n",
       "    <tr style=\"text-align: right;\">\n",
       "      <th></th>\n",
       "      <th>BHK</th>\n",
       "      <th>Furnishing</th>\n",
       "      <th>Sq.ft</th>\n",
       "      <th>Old(years)</th>\n",
       "      <th>Floor</th>\n",
       "      <th>Price</th>\n",
       "    </tr>\n",
       "  </thead>\n",
       "  <tbody>\n",
       "    <tr>\n",
       "      <th>count</th>\n",
       "      <td>1000.000000</td>\n",
       "      <td>1000.000000</td>\n",
       "      <td>1000.000000</td>\n",
       "      <td>1000.000000</td>\n",
       "      <td>1000.000000</td>\n",
       "      <td>1000.000000</td>\n",
       "    </tr>\n",
       "    <tr>\n",
       "      <th>mean</th>\n",
       "      <td>2.436000</td>\n",
       "      <td>0.348000</td>\n",
       "      <td>1448.613000</td>\n",
       "      <td>4.029000</td>\n",
       "      <td>3.465000</td>\n",
       "      <td>22829.900000</td>\n",
       "    </tr>\n",
       "    <tr>\n",
       "      <th>std</th>\n",
       "      <td>0.496135</td>\n",
       "      <td>0.476574</td>\n",
       "      <td>491.272535</td>\n",
       "      <td>3.048845</td>\n",
       "      <td>3.245197</td>\n",
       "      <td>7706.410627</td>\n",
       "    </tr>\n",
       "    <tr>\n",
       "      <th>min</th>\n",
       "      <td>2.000000</td>\n",
       "      <td>0.000000</td>\n",
       "      <td>767.000000</td>\n",
       "      <td>1.000000</td>\n",
       "      <td>0.000000</td>\n",
       "      <td>11000.000000</td>\n",
       "    </tr>\n",
       "    <tr>\n",
       "      <th>25%</th>\n",
       "      <td>2.000000</td>\n",
       "      <td>0.000000</td>\n",
       "      <td>1089.000000</td>\n",
       "      <td>1.000000</td>\n",
       "      <td>1.000000</td>\n",
       "      <td>16500.000000</td>\n",
       "    </tr>\n",
       "    <tr>\n",
       "      <th>50%</th>\n",
       "      <td>2.000000</td>\n",
       "      <td>0.000000</td>\n",
       "      <td>1300.000000</td>\n",
       "      <td>5.000000</td>\n",
       "      <td>3.000000</td>\n",
       "      <td>21000.000000</td>\n",
       "    </tr>\n",
       "    <tr>\n",
       "      <th>75%</th>\n",
       "      <td>3.000000</td>\n",
       "      <td>1.000000</td>\n",
       "      <td>1650.000000</td>\n",
       "      <td>5.000000</td>\n",
       "      <td>3.000000</td>\n",
       "      <td>26000.000000</td>\n",
       "    </tr>\n",
       "    <tr>\n",
       "      <th>max</th>\n",
       "      <td>3.000000</td>\n",
       "      <td>1.000000</td>\n",
       "      <td>3155.000000</td>\n",
       "      <td>10.000000</td>\n",
       "      <td>13.000000</td>\n",
       "      <td>45000.000000</td>\n",
       "    </tr>\n",
       "  </tbody>\n",
       "</table>\n",
       "</div>"
      ],
      "text/plain": [
       "               BHK   Furnishing        Sq.ft   Old(years)        Floor  \\\n",
       "count  1000.000000  1000.000000  1000.000000  1000.000000  1000.000000   \n",
       "mean      2.436000     0.348000  1448.613000     4.029000     3.465000   \n",
       "std       0.496135     0.476574   491.272535     3.048845     3.245197   \n",
       "min       2.000000     0.000000   767.000000     1.000000     0.000000   \n",
       "25%       2.000000     0.000000  1089.000000     1.000000     1.000000   \n",
       "50%       2.000000     0.000000  1300.000000     5.000000     3.000000   \n",
       "75%       3.000000     1.000000  1650.000000     5.000000     3.000000   \n",
       "max       3.000000     1.000000  3155.000000    10.000000    13.000000   \n",
       "\n",
       "              Price  \n",
       "count   1000.000000  \n",
       "mean   22829.900000  \n",
       "std     7706.410627  \n",
       "min    11000.000000  \n",
       "25%    16500.000000  \n",
       "50%    21000.000000  \n",
       "75%    26000.000000  \n",
       "max    45000.000000  "
      ]
     },
     "execution_count": 6,
     "metadata": {},
     "output_type": "execute_result"
    }
   ],
   "source": [
    "df.describe()"
   ]
  },
  {
   "cell_type": "code",
   "execution_count": 8,
   "id": "fb5ca906",
   "metadata": {},
   "outputs": [
    {
     "data": {
      "text/plain": [
       "Location      0\n",
       "BHK           0\n",
       "Furnishing    0\n",
       "Sq.ft         0\n",
       "Old(years)    0\n",
       "Floor         0\n",
       "Price         0\n",
       "dtype: int64"
      ]
     },
     "execution_count": 8,
     "metadata": {},
     "output_type": "execute_result"
    }
   ],
   "source": [
    "df.isnull().sum()"
   ]
  },
  {
   "cell_type": "code",
   "execution_count": 12,
   "id": "031127e4",
   "metadata": {},
   "outputs": [
    {
     "data": {
      "image/png": "[encoded data removed]",
      "text/plain": [
       "<Figure size 432x288 with 1 Axes>"
      ]
     },
     "metadata": {
      "needs_background": "light"
     },
     "output_type": "display_data"
    }
   ],
   "source": [
    "plt.boxplot(df[\"Floor\"])\n",
    "plt.title(\"Floor\")\n",
    "plt.show()"
   ]
  },
  {
   "cell_type": "code",
   "execution_count": 13,
   "id": "e877e5f8",
   "metadata": {},
   "outputs": [
    {
     "data": {
      "image/png": "[encoded data removed]",
      "text/plain": [
       "<Figure size 432x288 with 1 Axes>"
      ]
     },
     "metadata": {
      "needs_background": "light"
     },
     "output_type": "display_data"
    }
   ],
   "source": [
    "plt.boxplot(df[\"Price\"])\n",
    "plt.title(\"Price\")\n",
    "plt.show()"
   ]
  },
  {
   "cell_type": "code",
   "execution_count": 14,
   "id": "262b2082",
   "metadata": {},
   "outputs": [],
   "source": [
    "lb=LabelEncoder()\n",
    "df[\"Location\"]= lb.fit_transform(df[\"Location\"])"
   ]
  },
  {
   "cell_type": "code",
   "execution_count": 15,
   "id": "ea5542a3",
   "metadata": {},
   "outputs": [],
   "source": [
    "X=df.drop('Price',axis =1)\n",
    "y=df[\"Price\"]"
   ]
  },
  {
   "cell_type": "code",
   "execution_count": 16,
   "id": "390b548f",
   "metadata": {},
   "outputs": [],
   "source": [
    "X_train, X_test, y_train, y_test = train_test_split(X, y, test_size=0.3, random_state=42)"
   ]
  },
  {
   "cell_type": "code",
   "execution_count": 17,
   "id": "099f2b05",
   "metadata": {},
   "outputs": [
    {
     "name": "stdout",
     "output_type": "stream",
     "text": [
      "1    0.6123985057941428\n",
      "2    0.8209900646986041\n",
      "3    0.9097294835511683\n",
      "4    0.9494901223160119\n",
      "5    0.9746404917565515\n",
      "6    0.9924858990479434\n",
      "7    0.9989459820752257\n",
      "8    1.0\n",
      "9    1.0\n",
      "10    1.0\n",
      "11    1.0\n",
      "12    1.0\n",
      "13    1.0\n",
      "14    1.0\n",
      "15    1.0\n",
      "16    1.0\n",
      "17    1.0\n",
      "18    1.0\n",
      "19    1.0\n"
     ]
    }
   ],
   "source": [
    "for i in range(1,20):\n",
    "    dtc=DecisionTreeRegressor(max_depth=i)\n",
    "    dtc.fit(X_train,y_train)\n",
    "    pred = dtc.predict(X_test)\n",
    "    print(f'{i}    {r2_score(y_test, pred)}')"
   ]
  },
  {
   "cell_type": "code",
   "execution_count": 18,
   "id": "f2627ec7",
   "metadata": {},
   "outputs": [
    {
     "data": {
      "text/plain": [
       "1.0"
      ]
     },
     "execution_count": 18,
     "metadata": {},
     "output_type": "execute_result"
    }
   ],
   "source": [
    "dfr=DecisionTreeRegressor(max_depth=8)\n",
    "dfr.fit(X_train,y_train)\n",
    "pred = dfr.predict(X_test)\n",
    "r2_score(y_test,pred)"
   ]
  },
  {
   "cell_type": "code",
   "execution_count": 19,
   "id": "cfd91155",
   "metadata": {},
   "outputs": [
    {
     "data": {
      "text/plain": [
       "0.8529203286456313"
      ]
     },
     "execution_count": 19,
     "metadata": {},
     "output_type": "execute_result"
    }
   ],
   "source": [
    "lr=LinearRegression()\n",
    "lr.fit(X_train,y_train)\n",
    "pred = lr.predict(X_test)\n",
    "r2_score(y_test,pred)"
   ]
  },
  {
   "cell_type": "code",
   "execution_count": null,
   "id": "198d3809",
   "metadata": {},
   "outputs": [],
   "source": []
  },
  {
   "cell_type": "code",
   "execution_count": null,
   "id": "6c2e2d4f",
   "metadata": {},
   "outputs": [],
   "source": []
  },
  {
   "cell_type": "code",
   "execution_count": null,
   "id": "33128f28",
   "metadata": {},
   "outputs": [],
   "source": []
  },
  {
   "cell_type": "code",
   "execution_count": null,
   "id": "2938e1d5",
   "metadata": {},
   "outputs": [],
   "source": []
  }
 ],
 "metadata": {
  "kernelspec": {
   "display_name": "Python 3 (ipykernel)",
   "language": "python",
   "name": "python3"
  },
  "language_info": {
   "codemirror_mode": {
    "name": "ipython",
    "version": 3
   },
   "file_extension": ".py",
   "mimetype": "text/x-python",
   "name": "python",
   "nbconvert_exporter": "python",
   "pygments_lexer": "ipython3",
   "version": "3.9.7"
  }
 },
 "nbformat": 4,
 "nbformat_minor": 5
}
